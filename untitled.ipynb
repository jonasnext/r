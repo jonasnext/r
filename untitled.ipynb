{
 "nbformat": 4,
 "nbformat_minor": 0,
 "metadata": {
  "colab": {
   "name": "untitled",
   "provenance": []
  },
  "kernelspec": {
   "display_name": "Python 3",
   "name": "python3",
   "language": "python"
  }
 },
 "cells": [
  {
   "cell_type": "code",
   "execution_count": null,
   "metadata": {},
   "outputs": [],
   "source": [
    "import numpy as np\n",
    "import pandas as pd\n",
    "import matplotlib as mpl\n",
    "import matplotlib.pyplot as plt\n",
    "from math import sqrt, pi"
   ]
  },
  {
   "cell_type": "code",
   "execution_count": null,
   "metadata": {},
   "outputs": [],
   "source": [
    "seq = np.arange(0, 2*pi, .1)\n",
    "df = pd.DataFrame(seq)"
   ]
  },
  {
   "cell_type": "code",
   "execution_count": null,
   "metadata": {},
   "outputs": [],
   "source": [
    "f, a = plt.subplots(subplot_kw=dict(projection=\"polar\"))\n",
    "a.axis(False)\n",
    "a.scatter(seq, np.ones(seq.shape), color=\"#000000\", alpha=.5, s=.5)"
   ]
  },
  {
   "cell_type": "code",
   "execution_count": null,
   "metadata": {},
   "outputs": [],
   "source": [
    "seq = np.arange(0, 100.5, 1) * pi*(3-sqrt(5))\n",
    "df = pd.DataFrame(seq)"
   ]
  },
  {
   "cell_type": "code",
   "execution_count": null,
   "metadata": {},
   "outputs": [],
   "source": [
    "f, a = plt.subplots()\n",
    "a.axis(False)\n",
    "a.scatter(df.index * np.sin(seq), df.index * np.cos(seq), color=\"#000000\", alpha=.5, s=.5)"
   ]
  },
  {
   "cell_type": "code",
   "execution_count": null,
   "metadata": {},
   "outputs": [],
   "source": [
    "f.set_size_inches(1800/300, 1800/300)\n",
    "f.savefig(\"img01.png\", dpi=300, facecolor=\"#ffffff\")"
   ]
  },
  {
   "cell_type": "code",
   "execution_count": null,
   "metadata": {},
   "outputs": [],
   "source": [
    "#"
   ]
  }
 ]
}